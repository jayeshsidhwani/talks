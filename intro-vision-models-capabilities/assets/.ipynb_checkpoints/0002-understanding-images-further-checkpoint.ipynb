{
 "cells": [
  {
   "cell_type": "markdown",
   "id": "5931ec93-33ea-4e90-a798-83610ae94394",
   "metadata": {},
   "source": [
    "### Key Definitions\n",
    "\n",
    "Object Detection: Detect objects in a given image\n",
    "\n",
    "Object Segmentation: Detect boundaries of objects in a given image\n",
    "\n",
    "Object Tracking: Identify same instance of object over given images/video"
   ]
  },
  {
   "cell_type": "code",
   "execution_count": null,
   "id": "cc79e780-b82a-43e8-bee9-93096de35f4b",
   "metadata": {},
   "outputs": [],
   "source": []
  }
 ],
 "metadata": {
  "kernelspec": {
   "display_name": "Python 3 (ipykernel)",
   "language": "python",
   "name": "python3"
  },
  "language_info": {
   "codemirror_mode": {
    "name": "ipython",
    "version": 3
   },
   "file_extension": ".py",
   "mimetype": "text/x-python",
   "name": "python",
   "nbconvert_exporter": "python",
   "pygments_lexer": "ipython3",
   "version": "3.12.4"
  }
 },
 "nbformat": 4,
 "nbformat_minor": 5
}
