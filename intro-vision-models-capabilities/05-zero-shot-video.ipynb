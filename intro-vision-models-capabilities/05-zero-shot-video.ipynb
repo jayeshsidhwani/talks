{
 "cells": [
  {
   "cell_type": "markdown",
   "id": "c9ffa91c-b8fe-4466-a8c6-1d3940fcf7ff",
   "metadata": {},
   "source": [
    "# Generative models for video understanding\n",
    "\n",
    "Few recent language models have capability to understand videos. These models generalise over a variety of novel use-cases. These models are easy to fine-tune and extend the learning capabilities as well. \n",
    "\n",
    "These models typically combine video encoders (often building on CLIP-style frameworks) with large language models, enabling them to process both visual temporal information and generate natural language responses."
   ]
  },
  {
   "cell_type": "code",
   "execution_count": 1,
   "id": "496081b8-4b16-49e2-b359-5d4110948ab1",
   "metadata": {},
   "outputs": [],
   "source": [
    "import os\n",
    "from google import genai"
   ]
  },
  {
   "cell_type": "code",
   "execution_count": 2,
   "id": "4f729de8-4769-4f60-b630-9a8c90d26c52",
   "metadata": {},
   "outputs": [],
   "source": [
    "gemini_api_key = os.environ['GEMINI_API_KEY']"
   ]
  },
  {
   "cell_type": "code",
   "execution_count": 3,
   "id": "e73a63d9-1a19-4424-b18f-de7b2103b6b7",
   "metadata": {},
   "outputs": [],
   "source": [
    "client = genai.Client(api_key=gemini_api_key)"
   ]
  },
  {
   "cell_type": "code",
   "execution_count": 4,
   "id": "d8293f9d-0d81-4bc4-aa65-6cb2b67fcb37",
   "metadata": {},
   "outputs": [
    {
     "name": "stdout",
     "output_type": "stream",
     "text": [
      "The image shows a group of people playing pickleball on an indoor court. There are two teams of two people each facing each other across a net in the foreground. A yellow ball is in the air above the net. In the background, there is another pair playing pickleball on a separate court. The court is marked with white lines on a blue surface. There is a mural on the wall that reads \"AT SLEEP PICKLE REPEAT.\" There are also advertisements and signs visible on the walls. In the bottom right corner is a logo for \"HiFy.\"\n"
     ]
    }
   ],
   "source": [
    "image_file = client.files.upload(file=\"./assets/pickleball.jpg\")\n",
    "\n",
    "response = client.models.generate_content(\n",
    "    model=\"gemini-2.0-flash\",\n",
    "    contents=[image_file, \"Explain what is happening in the image\"]\n",
    ")\n",
    "\n",
    "print(response.text)"
   ]
  },
  {
   "cell_type": "code",
   "execution_count": 5,
   "id": "f2821b57-e563-4dd0-9de0-a9c25cd8299d",
   "metadata": {},
   "outputs": [],
   "source": [
    "video_file = client.files.upload(file=\"./assets/basketball-top-5.mp4\")\n"
   ]
  },
  {
   "cell_type": "code",
   "execution_count": 6,
   "id": "68763ac1-f7dd-4449-9a1e-d8c5fa1f441f",
   "metadata": {},
   "outputs": [
    {
     "name": "stdout",
     "output_type": "stream",
     "text": [
      "Here are the timestamps of every time someone scores a point in the provided video.\n",
      "\n",
      "[00:00:15]\n",
      "[00:00:25]\n",
      "[00:00:31]\n",
      "[00:00:41]\n",
      "[00:00:54]\n",
      "[00:01:14]\n"
     ]
    }
   ],
   "source": [
    "response = client.models.generate_content(\n",
    "    model=\"gemini-2.0-flash\",\n",
    "    contents=[video_file, \"Give me timestamps of every time someone scores a point\"]\n",
    ")\n",
    "\n",
    "print(response.text)"
   ]
  },
  {
   "cell_type": "code",
   "execution_count": null,
   "id": "61b2fd88-bc01-4ed4-80f3-5778bd01e050",
   "metadata": {},
   "outputs": [],
   "source": []
  }
 ],
 "metadata": {
  "kernelspec": {
   "display_name": "Python 3 (ipykernel)",
   "language": "python",
   "name": "python3"
  },
  "language_info": {
   "codemirror_mode": {
    "name": "ipython",
    "version": 3
   },
   "file_extension": ".py",
   "mimetype": "text/x-python",
   "name": "python",
   "nbconvert_exporter": "python",
   "pygments_lexer": "ipython3",
   "version": "3.12.4"
  }
 },
 "nbformat": 4,
 "nbformat_minor": 5
}
